{
 "cells": [
  {
   "cell_type": "code",
   "execution_count": null,
   "id": "88f446ed",
   "metadata": {},
   "outputs": [],
   "source": [
    "pip install dicom2nifti"
   ]
  },
  {
   "cell_type": "code",
   "execution_count": null,
   "id": "d6659693",
   "metadata": {},
   "outputs": [],
   "source": [
    "import dicom2nifti"
   ]
  },
  {
   "cell_type": "code",
   "execution_count": null,
   "id": "f0fd1b6f",
   "metadata": {},
   "outputs": [],
   "source": [
    "pip show dicom2nifti "
   ]
  },
  {
   "cell_type": "code",
   "execution_count": null,
   "id": "56e8de14",
   "metadata": {},
   "outputs": [],
   "source": [
    "import dicom2nifti\n",
    "import os\n",
    "import pydicom  # This is used to test if a file is a valid DICOM file"
   ]
  },
  {
   "cell_type": "code",
   "execution_count": null,
   "id": "093b01d0",
   "metadata": {},
   "outputs": [],
   "source": [
    "# Define the main directory path, here you should put all the patient folders, I used DICOM  \n",
    "main_dir = r'PATH\\TO\\YOUR\\MAIN_DIRECTORY'\n",
    "\n",
    "# Output base directory\n",
    "output_base_dir = r'PATH\\TO\\YOUR\\OUTPUT_DIRECTORY'\n",
    "\n",
    "# Ensure the output directory exists\n",
    "if not os.path.exists(output_base_dir):\n",
    "    os.makedirs(output_base_dir)"
   ]
  },
  {
   "cell_type": "code",
   "execution_count": null,
   "id": "acc50367",
   "metadata": {},
   "outputs": [],
   "source": [
    "#this will force check the files to see if they are dicom file. I had an issue with some files not having the .dcm extension\n",
    "def is_dicom_file(filepath):\n",
    "    try:\n",
    "        # Attempt to read the file using pydicom\n",
    "        dcm = pydicom.dcmread(filepath, force=True, stop_before_pixels=True)\n",
    "        # Check for specific DICOM elements that should be present; adjust according to your needs\n",
    "        if dcm.file_meta.MediaStorageSOPClassUID:\n",
    "            return True\n",
    "    except Exception as e:\n",
    "        print(f\"Failed to read {filepath} as DICOM: {e}\")\n",
    "        return False"
   ]
  },
  {
   "cell_type": "code",
   "execution_count": null,
   "id": "db52f4c7",
   "metadata": {},
   "outputs": [],
   "source": [
    "# Iterate over each patient directory in the main directory, with some debug prints for clear understanding\n",
    "for patient_id in os.listdir(main_dir):\n",
    "    patient_dir = os.path.join(main_dir, patient_id)\n",
    "\n",
    "    if os.path.isdir(patient_dir):\n",
    "        dicom_found = False  # Flag to track presence of DICOM files\n",
    "\n",
    "        for series_name in os.listdir(patient_dir):\n",
    "            series_dir = os.path.join(patient_dir, series_name)\n",
    "\n",
    "            if os.path.isdir(series_dir) and any(is_dicom_file(os.path.join(series_dir, f)) for f in os.listdir(series_dir)):\n",
    "                dicom_found = True\n",
    "                try:\n",
    "                    output_file = os.path.join(output_base_dir, f'{patient_id}.nii.gz')\n",
    "\n",
    "                    print(f\"Starting conversion: {series_dir} to {output_file}\")\n",
    "                    \n",
    "                    # this is the main conversion. Here I specified \"reorient False\" for my project, but you can it change here.\n",
    "                    dicom2nifti.dicom_series_to_nifti(series_dir, output_file, reorient_nifti=False)\n",
    "                    print(f'Conversion successful for {patient_id}')\n",
    "                except Exception as e:\n",
    "                    print(f'Error converting {patient_id}: {str(e)}')\n",
    "\n",
    "        if not dicom_found:\n",
    "            print(f\"No DICOM files found in any series in patient directory: {patient_dir}\")\n",
    "    else:\n",
    "        print(f\"Not a directory or no access: {patient_dir}\")\n"
   ]
  },
  {
   "cell_type": "code",
   "execution_count": null,
   "id": "441cb580",
   "metadata": {},
   "outputs": [],
   "source": []
  }
 ],
 "metadata": {
  "kernelspec": {
   "display_name": "Python 3 (ipykernel)",
   "language": "python",
   "name": "python3"
  },
  "language_info": {
   "codemirror_mode": {
    "name": "ipython",
    "version": 3
   },
   "file_extension": ".py",
   "mimetype": "text/x-python",
   "name": "python",
   "nbconvert_exporter": "python",
   "pygments_lexer": "ipython3",
   "version": "3.11.5"
  }
 },
 "nbformat": 4,
 "nbformat_minor": 5
}
