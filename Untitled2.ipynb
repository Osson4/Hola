{
 "cells": [
  {
   "cell_type": "code",
   "execution_count": null,
   "id": "04456ad9",
   "metadata": {},
   "outputs": [],
   "source": [
    "pip install dicom2nifti"
   ]
  },
  {
   "cell_type": "code",
   "execution_count": 1,
   "id": "67d5cf44",
   "metadata": {},
   "outputs": [],
   "source": [
    "import dicom2nifti"
   ]
  },
  {
   "cell_type": "code",
   "execution_count": 2,
   "id": "b8a26970",
   "metadata": {},
   "outputs": [
    {
     "name": "stdout",
     "output_type": "stream",
     "text": [
      "Name: dicom2nifti\n",
      "Version: 2.4.11\n",
      "Summary: package for converting dicom files to nifti\n",
      "Home-page: https://github.com/icometrix/dicom2nifti\n",
      "Author: icometrix NV\n",
      "Author-email: dicom2nifti@icometrix.com\n",
      "License: MIT\n",
      "Location: C:\\Users\\jmunuera\\AppData\\Roaming\\Python\\Python311\\site-packages\n",
      "Requires: nibabel, numpy, pydicom, python-gdcm, scipy\n",
      "Required-by: \n",
      "Note: you may need to restart the kernel to use updated packages.\n"
     ]
    }
   ],
   "source": [
    "pip show dicom2nifti"
   ]
  },
  {
   "cell_type": "code",
   "execution_count": 3,
   "id": "3835eedd",
   "metadata": {},
   "outputs": [],
   "source": [
    "import dicom2nifti\n",
    "import os"
   ]
  },
  {
   "cell_type": "code",
   "execution_count": 18,
   "id": "4493350f",
   "metadata": {},
   "outputs": [],
   "source": [
    "# Define the main directory path\n",
    "main_dir = r'D:\\G-AI neuroimaging\\first presentations CT scans sorted by Series description\\1mm READY FOR ANALYSIS'\n",
    "\n",
    "# Output base directory\n",
    "output_base_dir = r'D:\\\\G-AI neuroimaging\\\\first presentations CT scans sorted by Series description\\\\output'\n",
    "\n",
    "# Ensure the output directory exists\n",
    "if not os.path.exists(output_base_dir):\n",
    "    os.makedirs(output_base_dir)"
   ]
  },
  {
   "cell_type": "code",
   "execution_count": 19,
   "id": "424b26c8",
   "metadata": {},
   "outputs": [],
   "source": [
    "import pydicom  # This is used to test if a file is a valid DICOM file\n",
    "\n",
    "def is_dicom_file(filepath):\n",
    "    try:\n",
    "        # Attempt to read the file using pydicom\n",
    "        dcm = pydicom.dcmread(filepath, force=True, stop_before_pixels=True)\n",
    "        # Check for specific DICOM elements that should be present; adjust according to your needs\n",
    "        if dcm.file_meta.MediaStorageSOPClassUID:\n",
    "            return True\n",
    "    except Exception as e:\n",
    "        print(f\"Failed to read {filepath} as DICOM: {e}\")\n",
    "        return False"
   ]
  },
  {
   "cell_type": "code",
   "execution_count": null,
   "id": "a5df3639",
   "metadata": {},
   "outputs": [
    {
     "name": "stdout",
     "output_type": "stream",
     "text": [
      "Starting conversion: D:\\G-AI neuroimaging\\first presentations CT scans sorted by Series description\\1mm READY FOR ANALYSIS\\1075451\\CRANEO C. FINOS_Series0202 to D:\\\\G-AI neuroimaging\\\\first presentations CT scans sorted by Series description\\\\output\\1075451.nii.gz\n"
     ]
    }
   ],
   "source": [
    "# Iterate over each patient directory in the main directory\n",
    "for patient_id in os.listdir(main_dir):\n",
    "    patient_dir = os.path.join(main_dir, patient_id)\n",
    "\n",
    "    if os.path.isdir(patient_dir):\n",
    "        dicom_found = False  # Flag to track presence of DICOM files\n",
    "\n",
    "        for series_name in os.listdir(patient_dir):\n",
    "            series_dir = os.path.join(patient_dir, series_name)\n",
    "\n",
    "            if os.path.isdir(series_dir) and any(is_dicom_file(os.path.join(series_dir, f)) for f in os.listdir(series_dir)):\n",
    "                dicom_found = True\n",
    "                try:\n",
    "                    output_file = os.path.join(output_base_dir, f'{patient_id}.nii.gz')\n",
    "\n",
    "                    print(f\"Starting conversion: {series_dir} to {output_file}\")\n",
    "                    dicom2nifti.dicom_series_to_nifti(series_dir, output_file, reorient_nifti=False)\n",
    "                    print(f'Conversion successful for {patient_id}')\n",
    "                except Exception as e:\n",
    "                    print(f'Error converting {patient_id}: {str(e)}')\n",
    "\n",
    "        if not dicom_found:\n",
    "            print(f\"No DICOM files found in any series in patient directory: {patient_dir}\")\n",
    "    else:\n",
    "        print(f\"Not a directory or no access: {patient_dir}\")\n"
   ]
  },
  {
   "cell_type": "code",
   "execution_count": null,
   "id": "aa3557e9",
   "metadata": {},
   "outputs": [],
   "source": []
  }
 ],
 "metadata": {
  "kernelspec": {
   "display_name": "Python 3 (ipykernel)",
   "language": "python",
   "name": "python3"
  },
  "language_info": {
   "codemirror_mode": {
    "name": "ipython",
    "version": 3
   },
   "file_extension": ".py",
   "mimetype": "text/x-python",
   "name": "python",
   "nbconvert_exporter": "python",
   "pygments_lexer": "ipython3",
   "version": "3.11.5"
  }
 },
 "nbformat": 4,
 "nbformat_minor": 5
}
