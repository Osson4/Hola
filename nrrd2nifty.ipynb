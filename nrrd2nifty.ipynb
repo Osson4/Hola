{
 "cells": [
  {
   "cell_type": "code",
   "execution_count": 1,
   "metadata": {
    "colab": {
     "base_uri": "https://localhost:8080/"
    },
    "executionInfo": {
     "elapsed": 17814,
     "status": "ok",
     "timestamp": 1715161573115,
     "user": {
      "displayName": "Mario Laudazi",
      "userId": "13499678654788201740"
     },
     "user_tz": -120
    },
    "id": "Syg5KMAG9yqx",
    "outputId": "ec12ab6f-76cd-4859-cc46-5c6d7f174e0f"
   },
   "outputs": [
    {
     "name": "stdout",
     "output_type": "stream",
     "text": [
      "Name: pynrrd\n",
      "Version: 1.0.0\n",
      "Summary: Pure python module for reading and writing NRRD files.\n",
      "Home-page: https://github.com/mhe/pynrrd\n",
      "Author: Maarten Everts\n",
      "Author-email: me@nn8.nl\n",
      "License: MIT License\n",
      "Location: C:\\Users\\jmunuera\\AppData\\Roaming\\Python\\Python311\\site-packages\n",
      "Requires: nptyping, numpy, typing-extensions\n",
      "Required-by: \n",
      "---\n",
      "Name: nibabel\n",
      "Version: 5.2.1\n",
      "Summary: Access a multitude of neuroimaging data formats\n",
      "Home-page: \n",
      "Author: \n",
      "Author-email: NiBabel developers <neuroimaging@python.org>\n",
      "License: MIT License\n",
      "Location: C:\\Users\\jmunuera\\AppData\\Roaming\\Python\\Python311\\site-packages\n",
      "Requires: numpy, packaging\n",
      "Required-by: dicom2nifti\n"
     ]
    }
   ],
   "source": [
    "!pip show pynrrd nibabel"
   ]
  },
  {
   "cell_type": "code",
   "execution_count": null,
   "metadata": {},
   "outputs": [],
   "source": [
    "#!pip install pynrrd nibabel"
   ]
  },
  {
   "cell_type": "code",
   "execution_count": 2,
   "metadata": {},
   "outputs": [],
   "source": [
    "import os\n",
    "import glob\n",
    "import nrrd #pip install pynrrd, if pynrrd is not already installed\n",
    "import nibabel as nib #pip install nibabel, if nibabel is not already installed\n",
    "import numpy as np"
   ]
  },
  {
   "cell_type": "code",
   "execution_count": 7,
   "metadata": {
    "colab": {
     "base_uri": "https://localhost:8080/"
    },
    "executionInfo": {
     "elapsed": 864,
     "status": "ok",
     "timestamp": 1715161600629,
     "user": {
      "displayName": "Mario Laudazi",
      "userId": "13499678654788201740"
     },
     "user_tz": -120
    },
    "id": "cO1N-N9DRaHW",
    "outputId": "e17f8cb3-e95c-4095-c5c0-00920a8310f5"
   },
   "outputs": [
    {
     "name": "stdout",
     "output_type": "stream",
     "text": [
      "Directory contents: ['1075451.nrrd', '1174563.nrrd', '180818.nrrd', '556631.nrrd', '873308.nrrd']\n"
     ]
    }
   ],
   "source": [
    "# Specify the directory containing .nrrd files\n",
    "input_dir = r'D:\\G-AI neuroimaging\\test files\\nrrd test'\n",
    "# Check if the directory exists and list its contents\n",
    "if os.path.exists(input_dir):\n",
    "    print(\"Directory contents:\", os.listdir(input_dir))\n",
    "else:\n",
    "    print(\"Directory does not exist. Check the path.\")\n",
    "\n",
    "# Get a list of .nrrd files in the directory\n",
    "nrrd_files = glob.glob(os.path.join(input_dir, '*.nrrd'))"
   ]
  },
  {
   "cell_type": "code",
   "execution_count": 9,
   "metadata": {
    "colab": {
     "base_uri": "https://localhost:8080/"
    },
    "executionInfo": {
     "elapsed": 803,
     "status": "ok",
     "timestamp": 1715161869623,
     "user": {
      "displayName": "Mario Laudazi",
      "userId": "13499678654788201740"
     },
     "user_tz": -120
    },
    "id": "1z5nnq6eSS9B",
    "outputId": "c6f160ad-81e8-45d3-ef93-adea50788f10"
   },
   "outputs": [],
   "source": [
    "# Prepare to log files with non-positive zooms or issues\n",
    "skipped_files = []\n",
    "\n",
    "# Assuming nrrd_files is a list of NRRD file paths\n",
    "if nrrd_files:\n",
    "    for nrrd_file in nrrd_files:\n",
    "        try:\n",
    "            # Read the .nrrd file\n",
    "            data, header = nrrd.read(nrrd_file)\n",
    "\n",
    "            # Check for label value 11 in the data\n",
    "            if np.any(data == 11):\n",
    "                # Create a mask for label value 11 ('Lobar')\n",
    "                mask = data == 11\n",
    "                # Apply the mask to isolate the region of interest and convert it to 1\n",
    "                data = np.where(mask, 1, 0)  # Regions of interest set to 1, others to 0\n",
    "            else:\n",
    "                print(f\"No 'Lobar' segment with label 11 found in {nrrd_file}\")\n",
    "                skipped_files.append(nrrd_file)\n",
    "                continue  # Skip this file if the label is not found\n",
    "\n",
    "            # Extract zoom values and check if they are positive\n",
    "            zooms = [\n",
    "                header['space directions'][0, 0],\n",
    "                header['space directions'][1, 1],\n",
    "                header['space directions'][2, 2]\n",
    "            ]\n",
    "\n",
    "            if any(z <= 0 for z in zooms):\n",
    "                # Log this file for further review\n",
    "                skipped_files.append(nrrd_file)\n",
    "                continue  # Skip the current file\n",
    "\n",
    "            # Create a NIfTI1Image object with the binary data\n",
    "            nifti_img = nib.Nifti1Image(data, affine=None)\n",
    "\n",
    "            # Update the NIfTI header with necessary information\n",
    "            nifti_img.header.set_data_dtype(data.dtype)\n",
    "            nifti_img.header.set_zooms(zooms)\n",
    "\n",
    "            # Generate the output .nii file path by replacing the extension\n",
    "            nii_file = nrrd_file.replace('.nrrd', '.nii.gz')\n",
    "\n",
    "            # Save the NIfTI1Image object as .nii file\n",
    "            nib.save(nifti_img, nii_file)\n",
    "        except Exception as e:\n",
    "            print(f\"Error processing {nrrd_file}: {str(e)}\")\n",
    "else:\n",
    "    print(\"No NRRD files found. Please check the directory and file extensions.\")\n",
    "\n",
    "# Report the skipped files\n",
    "if skipped_files:\n",
    "    print(\"Skipped files with issues:\")\n",
    "    for file in skipped_files:\n",
    "        print(file)\n"
   ]
  },
  {
   "cell_type": "code",
   "execution_count": 5,
   "metadata": {},
   "outputs": [
    {
     "name": "stdout",
     "output_type": "stream",
     "text": [
      "Problem File Header:\n",
      "type: unsigned char\n",
      "dimension: 3\n",
      "space: left-posterior-superior\n",
      "sizes: [512 638 197]\n",
      "space directions: [[ 0.44672087 -0.00841547  0.03111792]\n",
      " [ 0.01685721  0.42950975 -0.12584205]\n",
      " [-0.04907886  0.2262862   0.76575991]]\n",
      "kinds: ['domain', 'domain', 'domain']\n",
      "encoding: gzip\n",
      "space origin: [ -132.5622528  -312.1877757 -1147.662631 ]\n",
      "Segment0_Color: 0.862745 0.470588 0.352941\n",
      "Segment0_ColorAutoGenerated: 1\n",
      "Segment0_Extent: 0 511 0 637 0 196\n",
      "Segment0_ID: Brain_Parenchyma\n",
      "Segment0_LabelValue: 1\n",
      "Segment0_Layer: 0\n",
      "Segment0_Name: brain parenchyma\n",
      "Segment0_NameAutoGenerated: 1\n",
      "Segment0_Tags: TerminologyEntry:Segmentation category and type - MONAI Auto3DSeg~SCT^123037004^Anatomical Structure~SCT^836432005^Parenchyma of brain~^^~Anatomic codes - DICOM master list~^^~^^|\n",
      "Segment10_Color: 0.0941176 0.533333 0.415686\n",
      "Segment10_ColorAutoGenerated: 1\n",
      "Segment10_Extent: 0 511 0 637 0 196\n",
      "Segment10_ID: Lobar\n",
      "Segment10_LabelValue: 11\n",
      "Segment10_Layer: 0\n",
      "Segment10_Name: Lobar\n",
      "Segment10_NameAutoGenerated: 1\n",
      "Segment10_Tags: TerminologyEntry:Segmentation category and type - DICOM master list~SCT^123037004^Anatomical Structure~SCT^???^???~^^~Anatomic codes - DICOM master list~^^~^^|\n",
      "Segment11_Color: 0.65098 0.443137 0.537255\n",
      "Segment11_ColorAutoGenerated: 1\n",
      "Segment11_Extent: 0 511 0 637 0 196\n",
      "Segment11_ID: Thalamus\n",
      "Segment11_LabelValue: 12\n",
      "Segment11_Layer: 0\n",
      "Segment11_Name: thalamus\n",
      "Segment11_NameAutoGenerated: 1\n",
      "Segment11_Tags: TerminologyEntry:Segmentation category and type - DICOM master list~SCT^123037004^Anatomical Structure~SCT^42695009^Thalamus~^^~Anatomic codes - DICOM master list~^^~^^|\n",
      "Segment12_Color: 0.737255 0.254902 0.109804\n",
      "Segment12_ColorAutoGenerated: 1\n",
      "Segment12_Extent: 0 511 0 637 0 196\n",
      "Segment12_ID: Intracerebral_Haemorrhage\n",
      "Segment12_LabelValue: 13\n",
      "Segment12_Layer: 0\n",
      "Segment12_Name: bleeding\n",
      "Segment12_NameAutoGenerated: 1\n",
      "Segment12_Tags: TerminologyEntry:Segmentation category and type - DICOM master list~SCT^49755003^Morphologically Altered Structure~SCT^50960005^Hemorrhage~^^~Anatomic codes - DICOM master list~SCT^113305005^Cerebellum~^^|\n",
      "Segment13_Color: 0.737255 0.254902 0.109804\n",
      "Segment13_ColorAutoGenerated: 1\n",
      "Segment13_Extent: 0 511 0 637 0 196\n",
      "Segment13_ID: Intraventricular_Haemorrhage\n",
      "Segment13_LabelValue: 14\n",
      "Segment13_Layer: 0\n",
      "Segment13_Name: bleeding\n",
      "Segment13_NameAutoGenerated: 1\n",
      "Segment13_Tags: TerminologyEntry:Segmentation category and type - DICOM master list~SCT^49755003^Morphologically Altered Structure~SCT^50960005^Hemorrhage~^^~Anatomic codes - DICOM master list~SCT^279245009^Ventricular system of brain~^^|\n",
      "Segment14_Color: 0.737255 0.254902 0.109804\n",
      "Segment14_ColorAutoGenerated: 1\n",
      "Segment14_Extent: 0 511 0 637 0 196\n",
      "Segment14_ID: Subdural_Haemorrhage\n",
      "Segment14_LabelValue: 15\n",
      "Segment14_Layer: 0\n",
      "Segment14_Name: bleeding\n",
      "Segment14_NameAutoGenerated: 1\n",
      "Segment14_Tags: TerminologyEntry:Segmentation category and type - DICOM master list~SCT^49755003^Morphologically Altered Structure~SCT^50960005^Hemorrhage~^^~Anatomic codes - DICOM master list~SCT^54214006^Subdural space~^^|\n",
      "Segment15_Color: 0.737255 0.254902 0.109804\n",
      "Segment15_ColorAutoGenerated: 1\n",
      "Segment15_Extent: 0 511 0 637 0 196\n",
      "Segment15_ID: Subarachnoid_Haemorrhage\n",
      "Segment15_LabelValue: 16\n",
      "Segment15_Layer: 0\n",
      "Segment15_Name: bleeding\n",
      "Segment15_NameAutoGenerated: 1\n",
      "Segment15_Tags: TerminologyEntry:Segmentation category and type - DICOM master list~SCT^49755003^Morphologically Altered Structure~SCT^50960005^Hemorrhage~^^~Anatomic codes - DICOM master list~SCT^35951006^Subarachnoid space~^^|\n",
      "Segment1_Color: 0.345098 0.415686 0.843137\n",
      "Segment1_ColorAutoGenerated: 1\n",
      "Segment1_Extent: 0 511 0 637 0 196\n",
      "Segment1_ID: Subarachnoid_Space\n",
      "Segment1_LabelValue: 2\n",
      "Segment1_Layer: 0\n",
      "Segment1_Name: subarachnoid space\n",
      "Segment1_NameAutoGenerated: 1\n",
      "Segment1_Tags: TerminologyEntry:Segmentation category and type - DICOM master list~SCT^123037004^Anatomical Structure~SCT^35951006^Subarachnoid space~^^~Anatomic codes - DICOM master list~^^~^^|\n",
      "Segment2_Color: 0.329412 0.811765 0.8\n",
      "Segment2_ColorAutoGenerated: 1\n",
      "Segment2_Extent: 0 511 0 637 0 196\n",
      "Segment2_ID: Dural_Folds_Venous_Sinuses\n",
      "Segment2_LabelValue: 3\n",
      "Segment2_Layer: 0\n",
      "Segment2_Name: Dural_Folds_Venous_Sinuses\n",
      "Segment2_NameAutoGenerated: 1\n",
      "Segment2_Tags: TerminologyEntry:Segmentation category and type - DICOM master list~SCT^123037004^Anatomical Structure~SCT^54944003^Dural venous sinus~^^~Anatomic codes - DICOM master list~^^~^^|\n",
      "Segment3_Color: 0.996078 0.207843 0.266667\n",
      "Segment3_ColorAutoGenerated: 1\n",
      "Segment3_Extent: 0 511 0 637 0 196\n",
      "Segment3_ID: Septum_Pellucidum\n",
      "Segment3_LabelValue: 4\n",
      "Segment3_Layer: 0\n",
      "Segment3_Name: Septum_Pellucidum\n",
      "Segment3_NameAutoGenerated: 1\n",
      "Segment3_Tags: TerminologyEntry:Segmentation category and type - DICOM master list~SCT^123037004^Anatomical Structure~SCT^70146006^Septum pellucidum~^^~Anatomic codes - DICOM master list~^^~^^|\n",
      "Segment4_Color: 0.498039 0.498039 0.498039\n",
      "Segment4_ColorAutoGenerated: 1\n",
      "Segment4_Extent: 0 511 0 637 0 196\n",
      "Segment4_ID: Cerebellum\n",
      "Segment4_LabelValue: 5\n",
      "Segment4_Layer: 0\n",
      "Segment4_Name: Cerebellum\n",
      "Segment4_NameAutoGenerated: 1\n",
      "Segment4_Tags: TerminologyEntry:Segmentation category and type - DICOM master list~SCT^123037004^Anatomical Structure~SCT^113305005^Cerebellum~^^~Anatomic codes - DICOM master list~^^~^^|\n",
      "Segment5_Color: 0.498039 0.498039 0.498039\n",
      "Segment5_ColorAutoGenerated: 1\n",
      "Segment5_Extent: 0 511 0 637 0 196\n",
      "Segment5_ID: Caudate_Nucleus\n",
      "Segment5_LabelValue: 6\n",
      "Segment5_Layer: 0\n",
      "Segment5_Name: Caudate nucleus\n",
      "Segment5_NameAutoGenerated: 1\n",
      "Segment5_Tags: TerminologyEntry:Segmentation category and type - DICOM master list~SCT^123037004^Anatomical Structure~SCT^11000004^Caudate nucleus~^^~Anatomic codes - DICOM master list~^^~^^|\n",
      "Segment6_Color: 0.470588 0.588235 0.705882\n",
      "Segment6_ColorAutoGenerated: 1\n",
      "Segment6_Extent: 0 511 0 637 0 196\n",
      "Segment6_ID: Lentiform_Nucleus\n",
      "Segment6_LabelValue: 7\n",
      "Segment6_Layer: 0\n",
      "Segment6_Name: lentiform nucleus\n",
      "Segment6_NameAutoGenerated: 1\n",
      "Segment6_Tags: TerminologyEntry:Segmentation category and type - MONAI Auto3DSeg~SCT^123037004^Anatomical Structure~SCT^41648007^Lentiform nucleus~^^~Anatomic codes - DICOM master list~^^~^^|\n",
      "Segment7_Color: 0.498039 0.498039 0.498039\n",
      "Segment7_ColorAutoGenerated: 1\n",
      "Segment7_Extent: 0 511 0 637 0 196\n",
      "Segment7_ID: Insular_Cortex\n",
      "Segment7_LabelValue: 8\n",
      "Segment7_Layer: 0\n",
      "Segment7_Name: Insula\n",
      "Segment7_NameAutoGenerated: 1\n",
      "Segment7_Tags: TerminologyEntry:Segmentation category and type - DICOM master list~SCT^123037004^Anatomical Structure~SCT^36169008^Insula~^^~Anatomic codes - DICOM master list~^^~^^|\n",
      "Segment8_Color: 0.470588 0.745098 0.54902\n",
      "Segment8_ColorAutoGenerated: 1\n",
      "Segment8_Extent: 0 511 0 637 0 196\n",
      "Segment8_ID: Internal_Capsule\n",
      "Segment8_LabelValue: 9\n",
      "Segment8_Layer: 0\n",
      "Segment8_Name: internal capsule\n",
      "Segment8_NameAutoGenerated: 1\n",
      "Segment8_Tags: TerminologyEntry:Segmentation category and type - MONAI Auto3DSeg~SCT^123037004^Anatomical Structure~SCT^85637007^Internal capsule~^^~Anatomic codes - DICOM master list~^^~^^|\n",
      "Segment9_Color: 0.470588 0.745098 0.54902\n",
      "Segment9_ColorAutoGenerated: 1\n",
      "Segment9_Extent: 0 511 0 637 0 196\n",
      "Segment9_ID: Ventricular_System\n",
      "Segment9_LabelValue: 10\n",
      "Segment9_Layer: 0\n",
      "Segment9_Name: ventricular system\n",
      "Segment9_NameAutoGenerated: 1\n",
      "Segment9_Tags: TerminologyEntry:Segmentation category and type - MONAI Auto3DSeg~SCT^123037004^Anatomical Structure~SCT^279245009^Ventricular system of brain~^^~Anatomic codes - DICOM master list~^^~^^|\n",
      "Segmentation_ContainedRepresentationNames: Binary labelmap|\n",
      "Segmentation_ConversionParameters: Decimation factor|0.0|Desired reduction in the total number of polygons. Range: 0.0 (no decimation) to 1.0 (as much simplification as possible). Value of 0.8 typically reduces data set size by 80% without losing too much details.&Smoothing factor|0.5|Smoothing factor. Range: 0.0 (no smoothing) to 1.0 (strong smoothing).&Compute surface normals|1|Compute surface normals. 1 (default) = surface normals are computed. 0 = surface normals are not computed (slightly faster but produces less smooth surface display, not used if vtkSurfaceNets3D is used).&Conversion method|0|Conversion method. 0 (default) = vtkDiscreteFlyingEdges3D is used to generate closed surface.1 = vtkSurfaceNets3D (more performant than flying edges).&SurfaceNets smoothing|0|SurfaceNets smoothing. 0 (default) = Smoothing done by vtkWindowedSincPolyDataFilter1 = Smoothing done in surface nets filter.&Joint smoothing|0|Perform joint smoothing.&Reference image geometry|-0.44672087449605574;-0.01685721113604546;0.049078856986759165;132.5622528;0.008415468000620117;-0.4295097520320007;-0.22628619761410632;312.1877757;0.031117917934277397;-0.12584204811999178;0.7657599141987311;-1147.6626310000001;0;0;0;1;0;511;0;637;0;196;|Image geometry description string determining the geometry of the labelmap that is created in course of conversion. Can be copied from a volume, using the button.&Oversampling factor|1|Determines the oversampling of the reference image geometry. If it's a number, then all segments are oversampled with the same value (value of 1 means no oversampling). If it has the value \"A\", then automatic oversampling is calculated.&Crop to reference image geometry|0|Crop the model to the extent of reference geometry. 0 (default) = created labelmap will contain the entire model. 1 = created labelmap extent will be within reference image extent.&Collapse labelmaps|1|Merge the labelmaps into as few shared labelmaps as possible 1 = created labelmaps will be shared if possible without overwriting each other.&Fractional labelmap oversampling factor|1|Determines the oversampling of the reference image geometry. All segments are oversampled with the same value (value of 1 means no oversampling).&Threshold fraction|0.5|Determines the threshold that the closed surface is created at as a fractional value between 0 and 1.&\n",
      "Segmentation_MasterRepresentation: Binary labelmap\n",
      "Segmentation_ReferenceImageExtentOffset: 0 0 0\n",
      "\n",
      "Normal File Header:\n"
     ]
    },
    {
     "name": "stdout",
     "output_type": "stream",
     "text": [
      "type: unsigned char\n",
      "dimension: 3\n",
      "space: left-posterior-superior\n",
      "sizes: [512 512 203]\n",
      "space directions: [[0.45626172 0.         0.        ]\n",
      " [0.         0.45626172 0.        ]\n",
      " [0.         0.         0.8       ]]\n",
      "kinds: ['domain', 'domain', 'domain']\n",
      "encoding: gzip\n",
      "space origin: [  -86.59886914  -295.3668691  -1267.494     ]\n",
      "Segment0_Color: 0.501961 0.682353 0.501961\n",
      "Segment0_ColorAutoGenerated: 1\n",
      "Segment0_Extent: 144 361 145 364 73 162\n",
      "Segment0_ID: Segment_1\n",
      "Segment0_LabelValue: 1\n",
      "Segment0_Layer: 0\n",
      "Segment0_Name: Segment_1\n",
      "Segment0_NameAutoGenerated: 1\n",
      "Segment0_Tags: Segmentation.Status:inprogress|TerminologyEntry:Segmentation category and type - 3D Slicer General Anatomy list~SCT^85756007^Tissue~SCT^85756007^Tissue~^^~Anatomic codes - DICOM master list~^^~^^|\n",
      "Segment1_Color: 0.945098 0.839216 0.568627\n",
      "Segment1_ColorAutoGenerated: 1\n",
      "Segment1_Extent: 144 361 145 364 73 162\n",
      "Segment1_ID: Segment_2\n",
      "Segment1_LabelValue: 2\n",
      "Segment1_Layer: 0\n",
      "Segment1_Name: Segment_2\n",
      "Segment1_NameAutoGenerated: 1\n",
      "Segment1_Tags: Segmentation.Status:inprogress|TerminologyEntry:Segmentation category and type - 3D Slicer General Anatomy list~SCT^85756007^Tissue~SCT^85756007^Tissue~^^~Anatomic codes - DICOM master list~^^~^^|\n",
      "Segment2_Color: 0.694118 0.478431 0.396078\n",
      "Segment2_ColorAutoGenerated: 1\n",
      "Segment2_Extent: 144 361 145 364 73 162\n",
      "Segment2_ID: Segment_3\n",
      "Segment2_LabelValue: 3\n",
      "Segment2_Layer: 0\n",
      "Segment2_Name: Segment_3\n",
      "Segment2_NameAutoGenerated: 1\n",
      "Segment2_Tags: Segmentation.Status:inprogress|TerminologyEntry:Segmentation category and type - 3D Slicer General Anatomy list~SCT^85756007^Tissue~SCT^85756007^Tissue~^^~Anatomic codes - DICOM master list~^^~^^|\n",
      "Segmentation_ContainedRepresentationNames: Binary labelmap|\n",
      "Segmentation_ConversionParameters: Decimation factor|0.0|Desired reduction in the total number of polygons. Range: 0.0 (no decimation) to 1.0 (as much simplification as possible). Value of 0.8 typically reduces data set size by 80% without losing too much details.&Smoothing factor|0.5|Smoothing factor. Range: 0.0 (no smoothing) to 1.0 (strong smoothing).&Compute surface normals|1|Compute surface normals. 1 (default) = surface normals are computed. 0 = surface normals are not computed (slightly faster but produces less smooth surface display, not used if vtkSurfaceNets3D is used).&Conversion method|0|Conversion method. 0 (default) = vtkDiscreteFlyingEdges3D is used to generate closed surface.1 = vtkSurfaceNets3D (more performant than flying edges).&SurfaceNets smoothing|0|SurfaceNets smoothing. 0 (default) = Smoothing done by vtkWindowedSincPolyDataFilter1 = Smoothing done in surface nets filter.&Joint smoothing|0|Perform joint smoothing.&Reference image geometry|-0.45626171875;0;0;86.598869140625;0;-0.45626171875;0;295.3668691;0;0;0.7999999999999996;-1267.494;0;0;0;1;0;511;0;511;0;202;|Image geometry description string determining the geometry of the labelmap that is created in course of conversion. Can be copied from a volume, using the button.&Oversampling factor|1|Determines the oversampling of the reference image geometry. If it's a number, then all segments are oversampled with the same value (value of 1 means no oversampling). If it has the value \"A\", then automatic oversampling is calculated.&Crop to reference image geometry|0|Crop the model to the extent of reference geometry. 0 (default) = created labelmap will contain the entire model. 1 = created labelmap extent will be within reference image extent.&Collapse labelmaps|1|Merge the labelmaps into as few shared labelmaps as possible 1 = created labelmaps will be shared if possible without overwriting each other.&Fractional labelmap oversampling factor|1|Determines the oversampling of the reference image geometry. All segments are oversampled with the same value (value of 1 means no oversampling).&Threshold fraction|0.5|Determines the threshold that the closed surface is created at as a fractional value between 0 and 1.&\n",
      "Segmentation_MasterRepresentation: Binary labelmap\n",
      "Segmentation_ReferenceImageExtentOffset: 0 0 0\n"
     ]
    }
   ],
   "source": [
    "import nrrd\n",
    "\n",
    "# Function to print header information\n",
    "def print_header_info(file_path):\n",
    "    _, header = nrrd.read(file_path)\n",
    "    for key, value in header.items():\n",
    "        print(f\"{key}: {value}\")\n",
    "\n",
    "# Paths to the files\n",
    "problem_file = r'D:\\G-AI neuroimaging\\segmentations\\nrrd\\180818.nrrd'\n",
    "normal_file = r'D:\\G-AI neuroimaging\\test files\\seg\\Segmentation_2.nrrd'\n",
    "\n",
    "print(\"Problem File Header:\")\n",
    "print_header_info(problem_file)\n",
    "\n",
    "print(\"\\nNormal File Header:\")\n",
    "print_header_info(normal_file)\n"
   ]
  },
  {
   "cell_type": "code",
   "execution_count": null,
   "metadata": {
    "colab": {
     "base_uri": "https://localhost:8080/"
    },
    "executionInfo": {
     "elapsed": 12649,
     "status": "ok",
     "timestamp": 1715109933082,
     "user": {
      "displayName": "Mario Laudazi",
      "userId": "13499678654788201740"
     },
     "user_tz": -120
    },
    "id": "yWityVp3fRKW",
    "outputId": "61200019-4e18-4e4f-a505-8ec77740701d"
   },
   "outputs": [],
   "source": [
    "import nibabel as nib\n",
    "import numpy as np\n",
    "\n",
    "# Path to your NIfTI segmentation file\n",
    "file_path = '/content/drive/MyDrive/Neuro/CODE/seg/1075451.nii.gz'\n",
    "\n",
    "# Load the NIfTI file\n",
    "nifti_img = nib.load(file_path)\n",
    "\n",
    "# Get the data array from the NIfTI file\n",
    "data_array = nifti_img.get_fdata()\n",
    "\n",
    "# Find unique labels in the segmentation\n",
    "unique_labels, counts = np.unique(data_array, return_counts=True)\n",
    "\n",
    "# Display the labels and their counts\n",
    "for label, count in zip(unique_labels, counts):\n",
    "    print(f\"Label: {label}, Count: {count}\")\n"
   ]
  },
  {
   "cell_type": "code",
   "execution_count": null,
   "metadata": {
    "colab": {
     "base_uri": "https://localhost:8080/"
    },
    "executionInfo": {
     "elapsed": 255211,
     "status": "ok",
     "timestamp": 1715110245193,
     "user": {
      "displayName": "Mario Laudazi",
      "userId": "13499678654788201740"
     },
     "user_tz": -120
    },
    "id": "m8fb5KjHgDCv",
    "outputId": "7fe6fab3-55a2-4a13-a1b8-678ea687fb06"
   },
   "outputs": [],
   "source": [
    "import os\n",
    "import glob\n",
    "import nibabel as nib\n",
    "import numpy as np\n",
    "\n",
    "# Specify the directory containing NIfTI files\n",
    "input_dir = '/content/drive/MyDrive/Neuro/CODE/seg'\n",
    "\n",
    "# Get a list of NIfTI files in the directory\n",
    "nifti_files = glob.glob(os.path.join(input_dir, '*.nii.gz'))\n",
    "\n",
    "# Check if there are any files to process\n",
    "if not nifti_files:\n",
    "    print(\"No NIfTI files found in the specified directory.\")\n",
    "    exit()\n",
    "\n",
    "# Dictionary to hold labels from each file\n",
    "file_labels = {}\n",
    "\n",
    "# Process each file\n",
    "for file_path in nifti_files:\n",
    "    # Load the NIfTI file\n",
    "    nifti_img = nib.load(file_path)\n",
    "    data_array = nifti_img.get_fdata()\n",
    "\n",
    "    # Find unique labels in the segmentation\n",
    "    unique_labels = np.unique(data_array)\n",
    "\n",
    "    # Store the labels for this file\n",
    "    file_labels[os.path.basename(file_path)] = set(unique_labels)\n",
    "\n",
    "# Determine the set of common labels (intersection of all sets)\n",
    "if file_labels:\n",
    "    common_labels = set.intersection(*file_labels.values())\n",
    "else:\n",
    "    print(\"No labels found across files.\")\n",
    "    exit()\n",
    "\n",
    "# Identify and report discrepancies\n",
    "discrepancies = {}\n",
    "for filename, labels in file_labels.items():\n",
    "    if labels != common_labels:\n",
    "        discrepancies[filename] = {\n",
    "            'missing_labels': list(common_labels - labels),\n",
    "            'extra_labels': list(labels - common_labels)\n",
    "        }\n",
    "\n",
    "# Output the discrepancies\n",
    "if discrepancies:\n",
    "    print(\"Discrepancies found in labels among files:\")\n",
    "    for filename, info in discrepancies.items():\n",
    "        print(f\"{filename}: Missing Labels: {info['missing_labels']}, Extra Labels: {info['extra_labels']}\")\n",
    "else:\n",
    "    print(\"No discrepancies found. All files have the same set of labels.\")\n"
   ]
  },
  {
   "cell_type": "code",
   "execution_count": null,
   "metadata": {
    "colab": {
     "base_uri": "https://localhost:8080/"
    },
    "executionInfo": {
     "elapsed": 224,
     "status": "ok",
     "timestamp": 1715110700397,
     "user": {
      "displayName": "Mario Laudazi",
      "userId": "13499678654788201740"
     },
     "user_tz": -120
    },
    "id": "GoYzrELsj7tB",
    "outputId": "b8655b51-8cd8-434b-eefe-1721d9607c93"
   },
   "outputs": [],
   "source": [
    "print(common_labels)"
   ]
  },
  {
   "cell_type": "code",
   "execution_count": null,
   "metadata": {
    "id": "zlQf81KERX1W"
   },
   "outputs": [],
   "source": [
    "# Get a list of .nrrd files in a directory\n",
    "nrrd_files = glob.glob('/content/drive/MyDrive/Neuro/CODE/seg/*.nrrd')\n",
    "\n",
    "# Loop through each .nrrd file\n",
    "for nrrd_file in nrrd_files:\n",
    "    # Read the .nrrd file\n",
    "    data, header = nrrd.read(nrrd_file)\n",
    "\n",
    "    # Create a NIfTI1Image object\n",
    "    nifti_img = nib.Nifti1Image(data, affine=None)\n",
    "\n",
    "    # Update the NIfTI header with necessary information\n",
    "    nifti_img.header.set_data_dtype(data.dtype)\n",
    "    nifti_img.header.set_zooms([header['space directions'][0, 0],\n",
    "                            header['space directions'][1, 1],\n",
    "                            header['space directions'][2, 2]])\n",
    "\n",
    "    # Generate the output .nii file path by replacing the extension\n",
    "    nii_file = nrrd_file.replace('.nrrd', '.nii.gz')\n",
    "\n",
    "    # Save the NIfTI1Image object as .nii file\n",
    "    nib.save(nifti_img, nii_file)"
   ]
  },
  {
   "cell_type": "code",
   "execution_count": null,
   "metadata": {
    "colab": {
     "base_uri": "https://localhost:8080/"
    },
    "executionInfo": {
     "elapsed": 1303,
     "status": "ok",
     "timestamp": 1715102629438,
     "user": {
      "displayName": "Mario Laudazi",
      "userId": "13499678654788201740"
     },
     "user_tz": -120
    },
    "id": "cKuFfKvx-nYY",
    "outputId": "1a90970d-4828-480a-d4ee-080eedfe5388"
   },
   "outputs": [],
   "source": [
    "import nrrd\n",
    "import os\n",
    "\n",
    "# Path to the input directory\n",
    "input_dir = '/content/drive/MyDrive/Neuro/CODE/seg'\n",
    "\n",
    "# List all nrrd files in the input directory\n",
    "nrrd_files = [file for file in os.listdir(input_dir) if file.endswith('.nrrd')]\n",
    "\n",
    "# Load the first nrrd file (for testing)\n",
    "file_path = os.path.join(input_dir, nrrd_files[0])\n",
    "data, header = nrrd.read(file_path)\n",
    "\n",
    "# Print out the header to explore metadata\n",
    "print(header)\n"
   ]
  },
  {
   "cell_type": "markdown",
   "metadata": {
    "id": "hVTAixEYTGiX"
   },
   "source": [
    "#other FUNCTIONs FOR CONVERTING A NRRD FILE INTO A .NII.GZ\n",
    "If you want the uncompressed version (.NII) just change \"output_file_name\" ending in line 16 with \".nii\" (instead of .nii.gz)"
   ]
  },
  {
   "cell_type": "code",
   "execution_count": null,
   "metadata": {
    "colab": {
     "base_uri": "https://localhost:8080/"
    },
    "executionInfo": {
     "elapsed": 2771,
     "status": "ok",
     "timestamp": 1715102632194,
     "user": {
      "displayName": "Mario Laudazi",
      "userId": "13499678654788201740"
     },
     "user_tz": -120
    },
    "id": "YbzNhA5YRlzT",
    "outputId": "95a1cb27-f898-43d0-8966-aa795171cc82"
   },
   "outputs": [],
   "source": [
    "import numpy as np\n",
    "import nibabel as nib\n",
    "\n",
    "# Output directory for the NIfTI files\n",
    "output_dir = '/content/drive/MyDrive/Neuro/CODE/out'\n",
    "\n",
    "# Labels we are interested in (example: 'brain parenchyma', 'thalamus')\n",
    "interested_labels = ['lobar']\n",
    "\n",
    "def save_label_as_nifti(data, header, label_value, output_dir, original_file_name, label_name):\n",
    "    # Create a binary mask for the current label\n",
    "    label_mask = data == label_value\n",
    "    # Check if the mask has any true values\n",
    "    if np.any(label_mask):\n",
    "        # Construct the output file name\n",
    "        output_file_name = f\"{original_file_name}_{label_name.replace(' ', '_')}.nii.gz\"\n",
    "        print(f\"Saving {output_file_name} with value {label_value}\")\n",
    "        # Convert binary mask to NIfTI image\n",
    "        nifti_img = nib.Nifti1Image(label_mask.astype(np.int16), affine=np.eye(4))\n",
    "        # Save the NIfTI image\n",
    "        nib.save(nifti_img, os.path.join(output_dir, output_file_name))\n",
    "    else:\n",
    "        print(f\"No data found for label {label_name} with value {label_value}\")\n",
    "\n",
    "for file in nrrd_files:\n",
    "    print(f\"Processing file: {file}\")\n",
    "    file_path = os.path.join(input_dir, file)\n",
    "    data, header = nrrd.read(file_path)\n",
    "    found_labels = False\n",
    "    # Extracting the base name without extension to use in naming the output files\n",
    "    base_name = os.path.splitext(file)[0]\n",
    "\n",
    "    for i in range(100):  # Adjust based on the number of segments you expect\n",
    "        label_name_key = f'Segment{i}_Name'\n",
    "        label_value_key = f'Segment{i}_LabelValue'\n",
    "        if label_name_key in header and header[label_name_key].lower() in interested_labels:\n",
    "            label_name = header[label_name_key]\n",
    "            label_value = int(header[label_value_key])\n",
    "            save_label_as_nifti(data, header, label_value, output_dir, base_name, label_name)\n",
    "            found_labels = True\n",
    "\n",
    "    if not found_labels:\n",
    "        print(f\"No interested labels found in {file}\")"
   ]
  },
  {
   "cell_type": "code",
   "execution_count": null,
   "metadata": {
    "colab": {
     "base_uri": "https://localhost:8080/"
    },
    "executionInfo": {
     "elapsed": 2568,
     "status": "ok",
     "timestamp": 1715102634757,
     "user": {
      "displayName": "Mario Laudazi",
      "userId": "13499678654788201740"
     },
     "user_tz": -120
    },
    "id": "jxm575Hvy54T",
    "outputId": "c74650b4-75f7-4d97-ab95-5e4b11ab0b33"
   },
   "outputs": [],
   "source": [
    "def save_label_as_nifti(data, header, label_value, output_dir, original_file_name, label_name):\n",
    "    # Create a binary mask for the current label\n",
    "    label_mask = data == label_value\n",
    "    # Check if the mask has any true values\n",
    "    if np.any(label_mask):\n",
    "        # Print out some stats about the mask\n",
    "        print(f\"Label {label_name} with value {label_value} has {np.sum(label_mask)} true values.\")\n",
    "        # Construct the output file name with .nii.gz extension for compression\n",
    "        output_file_name = f\"{original_file_name}_{label_name.replace(' ', '_')}.nii.gz\"\n",
    "        print(f\"Saving {output_file_name} with value {label_value}\")\n",
    "        # Convert binary mask to NIfTI image\n",
    "        nifti_img = nib.Nifti1Image(label_mask.astype(np.int16), affine=np.eye(4))\n",
    "        # Save the NIfTI image in compressed format\n",
    "        nib.save(nifti_img, os.path.join(output_dir, output_file_name))\n",
    "    else:\n",
    "        print(f\"No data found for label {label_name} with value {label_value}\")\n",
    "\n",
    "for file in nrrd_files:\n",
    "    print(f\"Processing file: {file}\")\n",
    "    file_path = os.path.join(input_dir, file)\n",
    "    data, header = nrrd.read(file_path)\n",
    "    found_labels = False\n",
    "    # Extracting the base name without extension to use in naming the output files\n",
    "    base_name = os.path.splitext(file)[0]\n",
    "\n",
    "    for i in range(100):  # Adjust based on the number of segments you expect\n",
    "        label_name_key = f'Segment{i}_Name'\n",
    "        label_value_key = f'Segment{i}_LabelValue'\n",
    "        if label_name_key in header and header[label_name_key].lower() in interested_labels:\n",
    "            label_name = header[label_name_key]\n",
    "            label_value = int(header[label_value_key])\n",
    "            save_label_as_nifti(data, header, label_value, output_dir, base_name, label_name)\n",
    "            found_labels = True\n",
    "\n",
    "    if not found_labels:\n",
    "        print(f\"No interested labels found in {file}\")"
   ]
  }
 ],
 "metadata": {
  "colab": {
   "authorship_tag": "ABX9TyMJSnrQO4uxVlAhUSmLyzcj",
   "mount_file_id": "1MVi9xoAaQvdSN_Bw4tlamg-uMgm049iy",
   "provenance": []
  },
  "kernelspec": {
   "display_name": "Python 3 (ipykernel)",
   "language": "python",
   "name": "python3"
  },
  "language_info": {
   "codemirror_mode": {
    "name": "ipython",
    "version": 3
   },
   "file_extension": ".py",
   "mimetype": "text/x-python",
   "name": "python",
   "nbconvert_exporter": "python",
   "pygments_lexer": "ipython3",
   "version": "3.11.5"
  }
 },
 "nbformat": 4,
 "nbformat_minor": 1
}
