{
 "cells": [
  {
   "cell_type": "code",
   "execution_count": 1,
   "id": "523a1a98",
   "metadata": {},
   "outputs": [],
   "source": [
    "import os\n",
    "import shutil\n",
    "\n"
   ]
  },
  {
   "cell_type": "code",
   "execution_count": 6,
   "id": "ea81d494",
   "metadata": {},
   "outputs": [
    {
     "name": "stdout",
     "output_type": "stream",
     "text": [
      "['1075451_mask.nii.gz', '1174563_mask.nii.gz', '1382349_mask.nii.gz', '1417858_mask.nii.gz', '1469159_mask.nii.gz', '1601959_mask.nii.gz', '1627009_mask.nii.gz', '1640134_mask.nii.gz', '1722078_mask.nii.gz', '180818_mask.nii.gz', '1927410_mask.nii.gz', '1927787_mask.nii.gz', '1928799_mask.nii.gz', '1930876_mask.nii.gz', '1931266_mask.nii.gz', '1936494_mask.nii.gz', '1946521_mask.nii.gz', '1950569_mask.nii.gz', '1950823_mask.nii.gz', '1954286_mask.nii.gz', '1954436_mask.nii.gz', '1954446_mask.nii.gz', '1957105_mask.nii.gz', '1957445_mask.nii.gz', '1962801_mask.nii.gz', '1963072_mask.nii.gz', '1963077_mask.nii.gz', '1963197_mask.nii.gz', '1967457_mask.nii.gz', '1968683_mask.nii.gz', '1972303_mask.nii.gz', '1972709_mask.nii.gz', '1972797_mask.nii.gz', '1978611_mask.nii.gz', '1978773_mask.nii.gz', '1978779_mask.nii.gz', '1978966_mask.nii.gz', '1979121_mask.nii.gz', '1979220_mask.nii.gz', '1984502_mask.nii.gz', '1984505_mask.nii.gz', '1984742_mask.nii.gz', '1984931_mask.nii.gz', '1984932_mask.nii.gz', '1985018_mask.nii.gz', '1995267_mask.nii.gz', '2006377_mask.nii.gz', '2009784_mask.nii.gz', '2010014_mask.nii.gz', '2010213_mask.nii.gz', '2015772_mask.nii.gz', '2015931_mask.nii.gz', '556631_mask.nii.gz', '873308_mask.nii.gz']\n"
     ]
    }
   ],
   "source": [
    "# Define the paths\n",
    "main_folder = r'C:\\Users\\mario\\Desktop\\analysis\\images'\n",
    "img_folder = os.path.join(main_folder, 'img')\n",
    "seg_folder = os.path.join(main_folder, 'seg')\n",
    "\n",
    "# Get the list of segmentation files\n",
    "seg_files = [f for f in os.listdir(seg_folder) if f.endswith('_mask.nii.gz')]\n",
    "print(seg_files)"
   ]
  },
  {
   "cell_type": "code",
   "execution_count": 7,
   "id": "9dc16b35",
   "metadata": {},
   "outputs": [
    {
     "name": "stdout",
     "output_type": "stream",
     "text": [
      "Files have been reorganized.\n"
     ]
    }
   ],
   "source": [
    "# Process each segmentation file\n",
    "for seg_file in seg_files:\n",
    "    # Extract the ID from the segmentation file name\n",
    "    file_id = seg_file.replace('_mask.nii.gz', '')\n",
    "    \n",
    "    # Construct the corresponding image file name\n",
    "    img_file = f\"{file_id}.nii.gz\"\n",
    "    \n",
    "    # Define the paths for the image and segmentation files\n",
    "    img_file_path = os.path.join(img_folder, img_file)\n",
    "    seg_file_path = os.path.join(seg_folder, seg_file)\n",
    "    \n",
    "    # Check if the image file exists\n",
    "    if os.path.exists(img_file_path):\n",
    "        # Create a new subfolder for the case\n",
    "        case_folder = os.path.join(main_folder, file_id)\n",
    "        os.makedirs(case_folder, exist_ok=True)\n",
    "        \n",
    "        # Move the image and segmentation files to the case folder\n",
    "        shutil.move(img_file_path, os.path.join(case_folder, img_file))\n",
    "        shutil.move(seg_file_path, os.path.join(case_folder, seg_file))\n",
    "\n",
    "print(\"Files have been reorganized.\")"
   ]
  },
  {
   "cell_type": "code",
   "execution_count": 5,
   "id": "27063ed0",
   "metadata": {},
   "outputs": [
    {
     "ename": "OSError",
     "evalue": "[WinError 145] La directory non è vuota: 'C:\\\\Users\\\\mario\\\\Desktop\\\\analysis\\\\images\\\\img'",
     "output_type": "error",
     "traceback": [
      "\u001b[1;31m---------------------------------------------------------------------------\u001b[0m",
      "\u001b[1;31mOSError\u001b[0m                                   Traceback (most recent call last)",
      "Cell \u001b[1;32mIn[5], line 32\u001b[0m\n\u001b[0;32m     29\u001b[0m                 shutil\u001b[38;5;241m.\u001b[39mmove(file_path, os\u001b[38;5;241m.\u001b[39mpath\u001b[38;5;241m.\u001b[39mjoin(seg_folder, file_name))\n\u001b[0;32m     31\u001b[0m         \u001b[38;5;66;03m# Remove the now-empty subfolder\u001b[39;00m\n\u001b[1;32m---> 32\u001b[0m         os\u001b[38;5;241m.\u001b[39mrmdir(subfolder_path)\n\u001b[0;32m     34\u001b[0m \u001b[38;5;28mprint\u001b[39m(\u001b[38;5;124m\"\u001b[39m\u001b[38;5;124mFiles have been reverted to the original organization.\u001b[39m\u001b[38;5;124m\"\u001b[39m)\n",
      "\u001b[1;31mOSError\u001b[0m: [WinError 145] La directory non è vuota: 'C:\\\\Users\\\\mario\\\\Desktop\\\\analysis\\\\images\\\\img'"
     ]
    }
   ],
   "source": [
    "import os\n",
    "import shutil\n",
    "\n",
    "# Define the paths\n",
    "main_folder = r'C:\\Users\\mario\\Desktop\\analysis\\images'\n",
    "img_folder = os.path.join(main_folder, 'img')\n",
    "seg_folder = os.path.join(main_folder, 'seg')\n",
    "\n",
    "# Create img and seg folders if they don't exist\n",
    "os.makedirs(img_folder, exist_ok=True)\n",
    "os.makedirs(seg_folder, exist_ok=True)\n",
    "\n",
    "# Iterate through each subfolder in the main folder\n",
    "for subfolder in os.listdir(main_folder):\n",
    "    subfolder_path = os.path.join(main_folder, subfolder)\n",
    "    \n",
    "    # Check if it's a directory\n",
    "    if os.path.isdir(subfolder_path):\n",
    "        # List all files in the subfolder\n",
    "        for file_name in os.listdir(subfolder_path):\n",
    "            file_path = os.path.join(subfolder_path, file_name)\n",
    "            \n",
    "            # Check if the file is an image or a segmentation file\n",
    "            if file_name.endswith('.nii.gz') and not file_name.endswith('_mask.nii.gz'):\n",
    "                # Move image files to the img folder\n",
    "                shutil.move(file_path, os.path.join(img_folder, file_name))\n",
    "            elif file_name.endswith('_mask.nii.gz'):\n",
    "                # Move segmentation files to the seg folder\n",
    "                shutil.move(file_path, os.path.join(seg_folder, file_name))\n",
    "        \n",
    "        # Remove the now-empty subfolder\n",
    "        os.rmdir(subfolder_path)\n",
    "\n",
    "print(\"Files have been reverted to the original organization.\")\n"
   ]
  },
  {
   "cell_type": "code",
   "execution_count": null,
   "id": "9ae94cb6",
   "metadata": {},
   "outputs": [],
   "source": []
  }
 ],
 "metadata": {
  "kernelspec": {
   "display_name": "Python 3 (ipykernel)",
   "language": "python",
   "name": "python3"
  },
  "language_info": {
   "codemirror_mode": {
    "name": "ipython",
    "version": 3
   },
   "file_extension": ".py",
   "mimetype": "text/x-python",
   "name": "python",
   "nbconvert_exporter": "python",
   "pygments_lexer": "ipython3",
   "version": "3.11.5"
  }
 },
 "nbformat": 4,
 "nbformat_minor": 5
}
