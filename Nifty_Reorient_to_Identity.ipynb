{
 "cells": [
  {
   "cell_type": "code",
   "execution_count": null,
   "id": "419fbc96",
   "metadata": {
    "scrolled": true
   },
   "outputs": [],
   "source": [
    "!pip show autorad"
   ]
  },
  {
   "cell_type": "code",
   "execution_count": null,
   "id": "6fc2ed97",
   "metadata": {},
   "outputs": [],
   "source": [
    "!pip install autorad"
   ]
  },
  {
   "cell_type": "code",
   "execution_count": null,
   "id": "77fa7990",
   "metadata": {},
   "outputs": [],
   "source": [
    "!pip install Simpleitk"
   ]
  },
  {
   "cell_type": "code",
   "execution_count": null,
   "id": "48ffd004",
   "metadata": {},
   "outputs": [],
   "source": [
    "import SimpleITK as sitk\n",
    "import os"
   ]
  },
  {
   "cell_type": "code",
   "execution_count": null,
   "id": "d45fff67",
   "metadata": {},
   "outputs": [],
   "source": [
    "def reorient_image(input_path, output_path):\n",
    "    try:\n",
    "        image = sitk.ReadImage(input_path)\n",
    "        # Setting direction to identity (orthonormal direction cosines)\n",
    "        identity_direction = (1.0, 0.0, 0.0, 0.0, 1.0, 0.0, 0.0, 0.0, 1.0)\n",
    "        image.SetDirection(identity_direction)\n",
    "        sitk.WriteImage(image, output_path)\n",
    "        print(f\"Processed {output_path}\")\n",
    "    except Exception as e:\n",
    "        print(f\"Failed to process {input_path}: {str(e)}\")"
   ]
  },
  {
   "cell_type": "code",
   "execution_count": null,
   "id": "2d573aa9",
   "metadata": {},
   "outputs": [],
   "source": [
    "def process_folder(input_folder):\n",
    "    for filename in os.listdir(input_folder):\n",
    "        if filename.lower().endswith('.nii') or filename.lower().endswith('.nii.gz'):\n",
    "            input_path = os.path.join(input_folder, filename)\n",
    "            output_path = os.path.join(input_folder, filename)\n",
    "            reorient_image(input_path, output_path)\n",
    "# Define your input folder path\n",
    "input_folder = r\"E:\\G-AI neuroimaging\\test files\\nifty seg rotated\"\n",
    "process_folder(input_folder)"
   ]
  },
  {
   "cell_type": "code",
   "execution_count": null,
   "id": "18b775b1",
   "metadata": {},
   "outputs": [],
   "source": []
  }
 ],
 "metadata": {
  "kernelspec": {
   "display_name": "Python 3 (ipykernel)",
   "language": "python",
   "name": "python3"
  },
  "language_info": {
   "codemirror_mode": {
    "name": "ipython",
    "version": 3
   },
   "file_extension": ".py",
   "mimetype": "text/x-python",
   "name": "python",
   "nbconvert_exporter": "python",
   "pygments_lexer": "ipython3",
   "version": "3.11.5"
  }
 },
 "nbformat": 4,
 "nbformat_minor": 5
}
